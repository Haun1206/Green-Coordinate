{
 "cells": [
  {
   "cell_type": "code",
   "execution_count": 2,
   "id": "8f812697-6337-4e7e-8d9f-14d99c44444e",
   "metadata": {},
   "outputs": [],
   "source": [
    "import numpy as np\n",
    "import igl"
   ]
  },
  {
   "cell_type": "code",
   "execution_count": 12,
   "id": "cbf55e59-9f79-4b5c-a101-4ad2b6016acb",
   "metadata": {},
   "outputs": [
    {
     "name": "stdout",
     "output_type": "stream",
     "text": [
      "[[0. 0. 0. 0.]\n",
      " [0. 0. 1. 0.]\n",
      " [0. 0. 0. 0.]]\n",
      "3\n",
      "[[0 1]\n",
      " [2 3]\n",
      " [3 4]]\n",
      "6\n"
     ]
    }
   ],
   "source": [
    "a = np.zeros((3, 4))\n",
    "a[1, 2] = 1\n",
    "print(a)\n",
    "print(len(a))\n",
    "\n",
    "b = np.array([[1, 2], [3, 4], [4, 5]])\n",
    "b = b-np.array([1, 1])\n",
    "print(b)\n",
    "\n",
    "c = np.array([1, 2, 3])\n",
    "d = np.array([1, 1, 1])\n",
    "print(c@d)"
   ]
  },
  {
   "cell_type": "code",
   "execution_count": null,
   "id": "43693537-f2f8-46f8-8edf-c5cee7694275",
   "metadata": {},
   "outputs": [],
   "source": [
    "Read data file"
   ]
  },
  {
   "cell_type": "code",
   "execution_count": null,
   "id": "fdac9bee-4f82-431b-a9c5-b4361a893dd6",
   "metadata": {},
   "outputs": [],
   "source": [
    "n = "
   ]
  },
  {
   "cell_type": "code",
   "execution_count": null,
   "id": "4162ab9b-dc77-4e01-8cd9-547ae35fc0e5",
   "metadata": {},
   "outputs": [],
   "source": [
    "Caculate Green Coordinate"
   ]
  },
  {
   "cell_type": "code",
   "execution_count": 1,
   "id": "f1b8c4ed-4989-4215-b2ff-e4c72651c6aa",
   "metadata": {},
   "outputs": [],
   "source": [
    "def GCTriINT(p, v1, v2, eta):\n",
    "    # Calculate integral of green function (solution of lapalce equation)\n",
    "    # Input\n",
    "    # p, v1, v2 : 3d vector\n",
    "    cos_alpha =  ((v2-v1)@(p-v1)) / (np.linalg.norm(v2-v1)*np.linalg.norm(p-v1)) \n",
    "    cos_beta  =  ((v1-p)@(v2-p)) / (np.linalg.norm(v1-p)*np.linalg.norm(v2-p)) \n",
    "    \n",
    "    l =  (np.linalg.norm(p-v1)**2)*(np.sin(alpha)**2)\n",
    "    c = np.linalg.norm(p - eta)**2\n",
    "    \n",
    "    I = np.zeros(2)\n",
    "    theta_list = [np.pi - alpha, np.pi - alpha - beta]\n",
    "    for idx, theta in enumerate(theta_list):\n",
    "        S = np.sin(theta)\n",
    "        C = np.cos(theta)\n",
    "        \n",
    "        den1 = np.sqrt( l + c*S*S )\n",
    "        den2 = c*(1+C)+l+np.sqrt(l)*np.sqrt(l+c*S*S)\n",
    "        den3 = (1-C)**2\n",
    "        \n",
    "        I[idx] = -0.5*np.sign(S)*( 2*np.sqrt(c)*np.arctan((np.sqrt(c)*C)/den1) ) + np.sqrt(l)\\\n",
    "                * np.log(((np.sqrt(l)*(1-2*c*C/(den2))))*(2*S*S/(den3)))\n",
    "    return (-1/(4*np.pi))*abs(I[0] - I[1] - np.sqrt(c)*beta)\n",
    "    \n",
    "# η =Xi∈IV(φi(η)vi) + Xj∈IT(ψj(η)n(tj))\n",
    "def gc(V, T, n, vi):\n",
    "    # Input\n",
    "    # V : (cv, 3) (cv: # of cage vertex) - cage vertices (sorted by ID)\n",
    "    # T : (cf, 3) (cf: # of cage face) - vertices IDs of faces\n",
    "    # n : (cf, 3) (cf: # of cage face) - normal vector of faces\n",
    "    # vi : (n, 3) (n: # of shape vertex) - vertices of shape\n",
    "    \n",
    "    # Output\n",
    "    # phi : (n, cv) : coordinate about cage's vertex \n",
    "    # psi : (n, cf) : coordinate about cage's face's normal\n",
    "    \n",
    "    phi = np.zeros((len(vi), len(V))) #len(a) : # of a's row\n",
    "    psi = np.zeros((len(vi), len(T)))\n",
    "    \n",
    "    for vidx, eta in enumerate(vi):\n",
    "        for fidx, f in enumerate(T):\n",
    "            v = np.array([V[f[0]], V[f[1]], V[f[2]], V[f[0]]])\n",
    "            v = v-eta\n",
    "            p = (v[0]@n[fidx])*n[fidx]\n",
    "            \n",
    "            s =  np.zeros(3)\n",
    "            I =  np.zeros(3)\n",
    "            II = np.zeros(3)\n",
    "            N = np.zeros((3, 3))\n",
    "            \n",
    "            for l in range(3):\n",
    "                s[l] = np.sign(np.cross(v[l]-p, v[l+1]-p)@n[fidx])\n",
    "                I[l] = np.GCTriINT(p, v[l], v[l+1], np.zeros(3))\n",
    "                II[l] = np.GCTriINT(np.zeros(3), v[l], v[l+1], np.zeros(3))\n",
    "                q = np.cross(v[l+1], v[l])\n",
    "                N[l] = q/np.linalg.norm(q)\n",
    "                if(np.linalg.norm(q[l]) < 0.00001): II[l] = 0\n",
    "            \n",
    "            I_ = abs(s[0]*I[0]+s[1]*I[1]+s[2]*I[2])\n",
    "            psi[vidx, fidx] = I_\n",
    "            w = n[fidx]*I_+N[0]*II[0]+N[1]*II[1]+N[2]*II[2]\n",
    "            \n",
    "            if np.linalg.norm(w) > 0.00001:\n",
    "                for l in range(3):\n",
    "                    phi[vidx, f[l]] += (N[(l+1)%3]@w)/(N[(l+1)%3]@v[l])\n",
    "    \n",
    "    return phi.T, psi.T\n",
    "\n",
    "phi, phi = gc(v_c, f_c, v_mci)\n",
    "    "
   ]
  },
  {
   "cell_type": "code",
   "execution_count": null,
   "id": "155622c3-09b3-4607-9224-fc9e9ff38661",
   "metadata": {},
   "outputs": [],
   "source": []
  }
 ],
 "metadata": {
  "kernelspec": {
   "display_name": "gc",
   "language": "python",
   "name": "gc"
  },
  "language_info": {
   "codemirror_mode": {
    "name": "ipython",
    "version": 3
   },
   "file_extension": ".py",
   "mimetype": "text/x-python",
   "name": "python",
   "nbconvert_exporter": "python",
   "pygments_lexer": "ipython3",
   "version": "3.8.16"
  }
 },
 "nbformat": 4,
 "nbformat_minor": 5
}
