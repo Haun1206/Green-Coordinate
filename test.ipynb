{
 "cells": [
  {
   "cell_type": "code",
   "execution_count": null,
   "metadata": {},
   "outputs": [],
   "source": [
    "import igl\n",
    "import numpy as np\n",
    "import meshplot as mp\n",
    "import torch\n",
    "from math import pi\n",
    "from tqdm import tqdm\n",
    "# import matplotlib.pyplot as plt\n",
    "\n",
    "import pythreejs as p3s\n",
    "import ipywidgets as iw\n",
    "from IPython.display import clear_output"
   ]
  },
  {
   "cell_type": "code",
   "execution_count": null,
   "metadata": {},
   "outputs": [],
   "source": [
    "v_m, f_m = igl.read_triangle_mesh(\"data/human_body/template.obj\")\n",
    "v_m2, f_m2 = igl.read_triangle_mesh(\"data/human_body_cage/template_120.obj\")\n",
    "\n",
    "#Cage\n",
    "# v_c, f_c = igl.read_triangle_mesh(\"data/deer_cage.obj\")\n",
    "# v_c, f_c = igl.read_triangle_mesh(\"data/cat_cage.obj\")\n",
    "# v_c, f_c = igl.read_triangle_mesh(\"data/cc_part2.obj\")\n",
    "\n",
    "# n = igl.per_face_normals( v_c, f_c, np.array([1.0, 0, 0]) ) #normalized\n",
    "\n",
    "plt = mp.plot(v_m, f_m)\n",
    "plt = mp.plot(v_m2, f_m2)\n"
   ]
  }
 ],
 "metadata": {
  "kernelspec": {
   "display_name": "gc",
   "language": "python",
   "name": "gc"
  },
  "orig_nbformat": 4
 },
 "nbformat": 4,
 "nbformat_minor": 2
}
